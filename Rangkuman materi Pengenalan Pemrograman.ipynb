{
 "cells": [
  {
   "cell_type": "markdown",
   "id": "06911af6-6b56-4f20-84ba-357188fa10e6",
   "metadata": {},
   "source": [
    "## Nama : Amanda Faiza Agustin\n",
    "## NIM : 103102400060\n",
    "## KELAS : DS-04-02"
   ]
  },
  {
   "cell_type": "markdown",
   "id": "eb3e679f-1c7d-4a59-b8cb-bb5534996073",
   "metadata": {},
   "source": [
    "# TIPE DATA"
   ]
  },
  {
   "cell_type": "markdown",
   "id": "a861265a-86d6-409a-aa99-6fb437f3a841",
   "metadata": {},
   "source": [
    "Macam - macam tipe data\n",
    "\n",
    "1. Variabel\n",
    "\n",
    "   Variable adalah tempat penyimpanan data dalam Python. Variable dapat digunakan untuk menyimpan berbagai jenis data, seperti integer, float, string, dan boolean.\n",
    "\n",
    "   contoh :"
   ]
  },
  {
   "cell_type": "code",
   "execution_count": 9,
   "id": "a5ce7b25-812a-47c1-a407-88e308c4646a",
   "metadata": {},
   "outputs": [
    {
     "name": "stdout",
     "output_type": "stream",
     "text": [
      "Nama saya adalah Sayyid dan usia saya adalah 18\n"
     ]
    }
   ],
   "source": [
    "nama = \"Sayyid\"\n",
    "usia = 18\n",
    "\n",
    "print(\"Nama saya adalah\", nama, \"dan usia saya adalah\", usia)"
   ]
  },
  {
   "cell_type": "markdown",
   "id": "73f5294c-bb5f-40bc-8189-47b8c3e20658",
   "metadata": {},
   "source": [
    "2. Tipe data\n",
    "\n",
    "   Data type adalah tipe data yang menentukan jenis data yang dapat disimpan dalam variable. Python memiliki berbagai jenis data, seperti integer, float, string, dan boolean.\n",
    "\n",
    "contoh :\r\n"
   ]
  },
  {
   "cell_type": "code",
   "execution_count": 20,
   "id": "9bf602d7-2764-4be4-8440-c1036c3d890c",
   "metadata": {},
   "outputs": [
    {
     "name": "stdout",
     "output_type": "stream",
     "text": [
      "nama saya Sayyid\n",
      "usia saya 18\n",
      "tinggi saya 1.7\n",
      "benar True\n"
     ]
    }
   ],
   "source": [
    "nama = \"Sayyid\"\n",
    "usia = 18\n",
    "tinggi = 1.70\n",
    "benar = True\n",
    "\n",
    "print(\"nama saya\", nama)\n",
    "print(\"usia saya\", usia)\n",
    "print(\"tinggi saya\", tinggi)\n",
    "print(\"benar\", benar)"
   ]
  },
  {
   "cell_type": "markdown",
   "id": "b859b8b9-3768-46f4-999c-329114034e15",
   "metadata": {},
   "source": [
    "Variable nama adalah tipe data string.\n",
    "\n",
    "Variable usia adalah tipe data integer.\n",
    "\n",
    "Variable tinggi adalah tipe data float.\n",
    "\n",
    "Variable benar adalah tipe data boolean."
   ]
  },
  {
   "cell_type": "markdown",
   "id": "fd2ff406-330a-4873-b1ac-6f4feafe35cd",
   "metadata": {},
   "source": [
    "# Percabangan dan perulangan "
   ]
  },
  {
   "cell_type": "markdown",
   "id": "00f85e35-51f2-4c11-80bb-74c8c8b7fa36",
   "metadata": {},
   "source": [
    "1. Operator rasional\n",
    "\n",
    "   Operator relasional digunakan untuk membandingkan dua nilai. Hasil dari perbandingan ini adalah nilai boolean, yaitu True atau False."
   ]
  },
  {
   "cell_type": "raw",
   "id": "d75dad0e-7127-4b3c-b10f-ab6fcec8f34c",
   "metadata": {},
   "source": [
    "# Perbandingan nilai integer\n",
    "\n",
    "a = 10\n",
    "b = 20\n",
    "\n",
    "print(a == b)  # False\n",
    "print(a != b)  # True\n",
    "print(a < b)  # True\n",
    "print(a > b)  # False\n",
    "print(a <= b)  # True\n",
    "print(a >= b)  # False\n",
    "\n",
    "# Perbandingan nilai string\n",
    "\n",
    "nama1 = \"Andi\"\n",
    "nama2 = \"Budi\"\n",
    "\n",
    "print(nama1 == nama2)  # False\n",
    "print(nama1 != nama2)  # True\n",
    "print(nama1 < nama2)  # False\n",
    "print(nama1 > nama2)  # True\n",
    "print(nama1 <= nama2)  # False\n",
    "print(nama1 >= nama2)  # True"
   ]
  },
  {
   "cell_type": "markdown",
   "id": "2cca2061-f77e-4cde-b69b-45dda99ff763",
   "metadata": {},
   "source": [
    "Pada contoh kode di atas, kita menggunakan operator relasional untuk membandingkan nilai dua variabel. Hasil dari perbandingan ini adalah nilai boolean, yaitu True atau False.\n",
    "\n",
    "\n",
    "True berarti kondisi terpenuhi\n",
    "\n",
    "False berarti kondisi tidak terpenuhi"
   ]
  },
  {
   "cell_type": "markdown",
   "id": "bcf57505-4679-4828-93c8-439a56ddff47",
   "metadata": {},
   "source": [
    "2. Perintah If\n",
    "\n",
    "   Perintah if digunakan untuk melakukan suatu tindakan jika kondisi tertentu terpenuhi."
   ]
  },
  {
   "cell_type": "raw",
   "id": "7d5f040b-55ad-4342-acc8-daf5a319dc97",
   "metadata": {},
   "source": [
    "# Menentukan apakah bilangan ganjil atau genap\n",
    "\n",
    "bil = 10\n",
    "\n",
    "if bil % 2 == 0:\n",
    "    print(\"Bilangan genap\")\n",
    "else:\n",
    "    print(\"Bilangan ganjil\")"
   ]
  },
  {
   "cell_type": "markdown",
   "id": "4dab417b-01fa-41dd-b8da-d27fabc0ddca",
   "metadata": {},
   "source": [
    "contoh :"
   ]
  },
  {
   "cell_type": "code",
   "execution_count": 42,
   "id": "611799bd-9bad-4f90-849b-8762af9f9f87",
   "metadata": {},
   "outputs": [
    {
     "name": "stdin",
     "output_type": "stream",
     "text": [
      "masukkan nilai:  11\n"
     ]
    },
    {
     "name": "stdout",
     "output_type": "stream",
     "text": [
      "bilangan ganjil\n"
     ]
    }
   ],
   "source": [
    "bilangan=int(input(\"masukkan nilai: \"))\n",
    "if bilangan/2==0:\n",
    "    print(\"bilangan genap\")\n",
    "else: \n",
    "    print(\"bilangan ganjil\")"
   ]
  },
  {
   "cell_type": "markdown",
   "id": "614a92a7-a1c5-4e57-8d57-9f5487792c9b",
   "metadata": {},
   "source": [
    "3. Luas Segitiga dengan Percabangan\n",
    "\n",
    "   rumus luas segitiga:"
   ]
  },
  {
   "cell_type": "raw",
   "id": "b06fffb0-c445-45df-95f2-6f476a804bfe",
   "metadata": {},
   "source": [
    "luas = (alas * tinggi) / 2"
   ]
  },
  {
   "cell_type": "code",
   "execution_count": 46,
   "id": "986615aa-9624-4cdc-b6d9-880cc945e29c",
   "metadata": {},
   "outputs": [
    {
     "name": "stdin",
     "output_type": "stream",
     "text": [
      "Masukkan alas segitiga:  7\n",
      "Masukkan tinggi segitiga:  13\n"
     ]
    },
    {
     "name": "stdout",
     "output_type": "stream",
     "text": [
      "Luas segitiga: 45.5\n"
     ]
    }
   ],
   "source": [
    "# Menentukan luas segitiga\n",
    "\n",
    "alas = float(input(\"Masukkan alas segitiga: \"))\n",
    "tinggi = float(input(\"Masukkan tinggi segitiga: \"))\n",
    "\n",
    "if alas <= 0 or tinggi <= 0:\n",
    "    print(\"Nilai alas atau tinggi tidak valid\")\n",
    "else:\n",
    "    luas = (alas * tinggi) / 2\n",
    "    print(\"Luas segitiga:\", luas)"
   ]
  },
  {
   "cell_type": "markdown",
   "id": "7185ea88-302a-4ae9-abc0-85748d48fb8e",
   "metadata": {},
   "source": [
    "4. Pernyataan if Bertingkat\n",
    "\n",
    "   Pernyataan if bertingkat digunakan untuk menguji lebih dari satu kondisi."
   ]
  },
  {
   "cell_type": "code",
   "execution_count": 51,
   "id": "02fd668f-7826-4282-ad5d-cfca8c78a579",
   "metadata": {},
   "outputs": [
    {
     "name": "stdin",
     "output_type": "stream",
     "text": [
      "Masukkan bilangan:  6\n"
     ]
    },
    {
     "name": "stdout",
     "output_type": "stream",
     "text": [
      "Bilangan positif\n"
     ]
    }
   ],
   "source": [
    "# Menentukan apakah bilangan positif, negatif, atau nol\n",
    "\n",
    "bil = float(input(\"Masukkan bilangan: \"))\n",
    "\n",
    "if bil > 0:\n",
    "    print(\"Bilangan positif\")\n",
    "elif bil < 0:\n",
    "    print(\"Bilangan negatif\")\n",
    "else:\n",
    "    print(\"Bilangan nol\")"
   ]
  },
  {
   "cell_type": "markdown",
   "id": "557464ae-5192-4ad8-af87-3ee562bf2b5c",
   "metadata": {},
   "source": [
    "5. If dalam if\n",
    "\n",
    "   contoh :"
   ]
  },
  {
   "cell_type": "code",
   "execution_count": 54,
   "id": "35f03e25-31b7-4774-b12c-cf3eaef2b5af",
   "metadata": {},
   "outputs": [
    {
     "name": "stdin",
     "output_type": "stream",
     "text": [
      "masukkan usia anda:  18\n",
      "masukkan tinggi anda:  166\n",
      "Apakah anda member?:  tidak\n",
      "Total pembelian:  865000\n"
     ]
    },
    {
     "name": "stdout",
     "output_type": "stream",
     "text": [
      "selamat anda bisa menikmati wahana ini\n"
     ]
    }
   ],
   "source": [
    "usia=int(input(\"masukkan usia anda: \"))\n",
    "tinggi=int(input(\"masukkan tinggi anda: \"))\n",
    "\n",
    "if usia >= 10 and tinggi >= 110:\n",
    "    member= bool(input(\"Apakah anda member?: \"))\n",
    "    pembelian= int(input(\"Total pembelian: \"))\n",
    "    if member == True or pembelian > 500000:\n",
    "        print(\"selamat anda bisa menikmati wahana ini\")\n",
    "else:\n",
    "    print(\"aduh sayang sekali, anda belum bisa menikmati wahana ini\")"
   ]
  },
  {
   "cell_type": "markdown",
   "id": "96768d1d-ec36-4e7e-b8bf-633da54148df",
   "metadata": {},
   "source": [
    "# struktur perulangan kompleks"
   ]
  },
  {
   "cell_type": "markdown",
   "id": "35d295f2-7431-4ce5-9c4a-5f6f0593ed66",
   "metadata": {},
   "source": [
    "1. Break "
   ]
  },
  {
   "cell_type": "code",
   "execution_count": 58,
   "id": "c06c9568-4d34-400a-841a-c9e5a037e423",
   "metadata": {},
   "outputs": [
    {
     "name": "stdout",
     "output_type": "stream",
     "text": [
      "0\n",
      "1\n",
      "2\n",
      "3\n",
      "4\n",
      "5\n",
      "6\n",
      "7\n",
      "8\n",
      "9\n",
      "10\n"
     ]
    }
   ],
   "source": [
    "for i in range(1000):\n",
    "    print(i)\n",
    "    if i==10:\n",
    "        break"
   ]
  },
  {
   "cell_type": "markdown",
   "id": "91631045-996c-4570-8f97-f487ec64fc1b",
   "metadata": {},
   "source": [
    "2. Continue"
   ]
  },
  {
   "cell_type": "code",
   "execution_count": 61,
   "id": "aac0329e-ac2a-4de6-a872-53d6056791f8",
   "metadata": {},
   "outputs": [
    {
     "name": "stdout",
     "output_type": "stream",
     "text": [
      "0\n",
      "1\n",
      "2\n",
      "3\n",
      "4\n",
      "6\n",
      "7\n",
      "8\n",
      "9\n"
     ]
    }
   ],
   "source": [
    "for i in range(10):\n",
    "    if i==5:\n",
    "        continue\n",
    "    print(i)"
   ]
  },
  {
   "cell_type": "code",
   "execution_count": 69,
   "id": "0e91a975-b733-457e-9811-b89fa9f27d90",
   "metadata": {},
   "outputs": [
    {
     "name": "stdin",
     "output_type": "stream",
     "text": [
      "masukkan jumlah baris:  7\n"
     ]
    },
    {
     "name": "stdout",
     "output_type": "stream",
     "text": [
      "1  \n",
      "2 2   \n",
      "3 3 3    \n",
      "4 4 4 4     \n",
      "5 5 5 5 5      \n",
      "6 6 6 6 6 6       \n",
      "7 7 7 7 7 7 7        \n"
     ]
    }
   ],
   "source": [
    "baris=int(input(\"masukkan jumlah baris: \"))\n",
    "\n",
    "for i in range(1, baris+1):\n",
    "    for j in range (1, i+1):\n",
    "        print(i, end=\" \")\n",
    "    for j in range(0,i):\n",
    "        print(\"\", end=\" \")\n",
    "    print()"
   ]
  },
  {
   "cell_type": "markdown",
   "id": "08ad4c39-c69a-45d7-a762-b46eb9d8c8c0",
   "metadata": {},
   "source": [
    "# kondisi"
   ]
  },
  {
   "cell_type": "code",
   "execution_count": 65,
   "id": "2511964e-1149-4980-9c8a-4e8095e43904",
   "metadata": {},
   "outputs": [
    {
     "name": "stdin",
     "output_type": "stream",
     "text": [
      "nilai anda 88\n",
      "masukkan presentase kehadiran anda 97\n"
     ]
    },
    {
     "name": "stdout",
     "output_type": "stream",
     "text": [
      "sangat memuaskan\n"
     ]
    }
   ],
   "source": [
    "nilai=int(input(\"nilai anda\"))\n",
    "kehadiran=int(input(\"masukkan presentase kehadiran anda\"))\n",
    "if nilai > 80:\n",
    "    if kehadiran > 90:\n",
    "        print(\"sangat memuaskan\")\n",
    "    elif kehadiran >= 75 and 90:\n",
    "        print(\"memuaskan\")\n",
    "    else:\n",
    "        print(\"cukup memuaskan\")\n",
    "\n",
    "elif nilai >= 60 and nilai >= 80:\n",
    "    if kehadiran > 75:\n",
    "        print(\"cukup\")\n",
    "    elif kehadiran > 75 and kehadiran == 75:\n",
    "        print(\"print perbaikan\")\n",
    "\n",
    "else:\n",
    "    print(\"tidak lulus\")"
   ]
  },
  {
   "cell_type": "markdown",
   "id": "2385fd8d-f735-4e14-a1a7-717c6939b0b6",
   "metadata": {},
   "source": [
    "# for dalam list"
   ]
  },
  {
   "cell_type": "code",
   "execution_count": 73,
   "id": "1f9fcc46-e8d0-4fd4-8b54-c1bdc4bbd1e8",
   "metadata": {},
   "outputs": [
    {
     "name": "stdin",
     "output_type": "stream",
     "text": [
      "masukkan jumlah data:  6\n",
      "masukkan data:  3\n",
      "masukkan data:  1\n",
      "masukkan data:  3\n",
      "masukkan data:  7\n",
      "masukkan data:  10\n",
      "masukkan data:  22\n"
     ]
    },
    {
     "name": "stdout",
     "output_type": "stream",
     "text": [
      "data kamu adalah  [3.0, 1.0, 3.0, 7.0, 10.0, 22.0]\n"
     ]
    }
   ],
   "source": [
    "n=int(input(\"masukkan jumlah data: \"))\n",
    "list_data=[float(input(\"masukkan data: \")) for _ in range (n)]\n",
    "print(\"data kamu adalah \",list_data)"
   ]
  },
  {
   "cell_type": "markdown",
   "id": "7575ce1a-a46d-4437-8fa4-b4d0130f24bb",
   "metadata": {},
   "source": [
    "# penggunaan append\n",
    "\n",
    "Dalam Python, metode append [ ] digunakan untuk menambahkan (menyisipkan) elemen baru ke akhir sebuah list. Ini sangat berguna ketika Anda ingin memperluas atau menambahkan item ke dalam list tanpa membuat list baru."
   ]
  },
  {
   "cell_type": "code",
   "execution_count": 76,
   "id": "fc59ae3e-eeca-4807-bc83-31febb570793",
   "metadata": {},
   "outputs": [
    {
     "name": "stdout",
     "output_type": "stream",
     "text": [
      "['apel', 'jeruk', 'pisang']\n"
     ]
    }
   ],
   "source": [
    "# Membuat list kosong\n",
    "daftar_buah = []\n",
    "\n",
    "# Menambahkan elemen ke dalam list\n",
    "daftar_buah.append(\"apel\")\n",
    "daftar_buah.append(\"jeruk\")\n",
    "daftar_buah.append(\"pisang\")\n",
    "\n",
    "print(daftar_buah)  # Output: ['apel', 'jeruk', 'pisang']\n"
   ]
  },
  {
   "cell_type": "code",
   "execution_count": 78,
   "id": "7e782f43-a8a1-4fbd-af23-2e6d743736eb",
   "metadata": {},
   "outputs": [
    {
     "name": "stdin",
     "output_type": "stream",
     "text": [
      "masukkan data 3\n",
      "masukkan data 5\n",
      "masukkan data 6\n",
      "masukkan data 1\n",
      "masukkan data 12\n"
     ]
    }
   ],
   "source": [
    "x=[ ]\n",
    "n=5\n",
    "for i in range(n):\n",
    "    x.append (int(input(\"masukkan data\")))"
   ]
  },
  {
   "cell_type": "code",
   "execution_count": 80,
   "id": "dd8e1082-2cce-4ab3-b4ed-519bf46aca4f",
   "metadata": {},
   "outputs": [
    {
     "name": "stdin",
     "output_type": "stream",
     "text": [
      "masukkan data 3\n"
     ]
    },
    {
     "name": "stdout",
     "output_type": "stream",
     "text": [
      "masukkan data [3]\n"
     ]
    },
    {
     "name": "stdin",
     "output_type": "stream",
     "text": [
      "masukkan data 1\n"
     ]
    },
    {
     "name": "stdout",
     "output_type": "stream",
     "text": [
      "masukkan data [3, 1]\n"
     ]
    },
    {
     "name": "stdin",
     "output_type": "stream",
     "text": [
      "masukkan data 4\n"
     ]
    },
    {
     "name": "stdout",
     "output_type": "stream",
     "text": [
      "masukkan data [3, 1, 4]\n"
     ]
    },
    {
     "name": "stdin",
     "output_type": "stream",
     "text": [
      "masukkan data 5\n"
     ]
    },
    {
     "name": "stdout",
     "output_type": "stream",
     "text": [
      "masukkan data [3, 1, 4, 5]\n"
     ]
    },
    {
     "name": "stdin",
     "output_type": "stream",
     "text": [
      "masukkan data 12\n"
     ]
    },
    {
     "name": "stdout",
     "output_type": "stream",
     "text": [
      "masukkan data [3, 1, 4, 5, 12]\n"
     ]
    }
   ],
   "source": [
    "n=5\n",
    "x=[ ]\n",
    "for i in range(n):\n",
    "    x.append(int(input(\"masukkan data\")))\n",
    "    print(\"masukkan data\", x)"
   ]
  },
  {
   "cell_type": "markdown",
   "id": "e468aab6-42a5-4456-b4fe-68dc5b64cac8",
   "metadata": {},
   "source": [
    "# while\n",
    "\n",
    "Dalam Python, metode append [ ] digunakan untuk menambahkan (menyisipkan) elemen baru ke akhir sebuah list. Ini sangat berguna ketika Anda ingin memperluas atau menambahkan item ke dalam list tanpa membuat list baru."
   ]
  },
  {
   "cell_type": "code",
   "execution_count": 83,
   "id": "f748cd61-9148-4ee9-902b-babd1c802360",
   "metadata": {},
   "outputs": [
    {
     "name": "stdin",
     "output_type": "stream",
     "text": [
      "ulangi lagi tidak? ya\n",
      "ulangi lagi tidak? ya\n",
      "ulangi lagi tidak? tidak\n"
     ]
    },
    {
     "name": "stdout",
     "output_type": "stream",
     "text": [
      "total pengulangan:  3\n"
     ]
    }
   ],
   "source": [
    "jawab='ya'\n",
    "hitung=0\n",
    "while (jawab=='ya'):\n",
    "    hitung=hitung+1\n",
    "    jawab=input('ulangi lagi tidak?')\n",
    "print(\"total pengulangan: \",hitung)"
   ]
  },
  {
   "cell_type": "code",
   "execution_count": null,
   "id": "e5970367-ad08-429f-969a-d915dce74049",
   "metadata": {},
   "outputs": [],
   "source": []
  }
 ],
 "metadata": {
  "kernelspec": {
   "display_name": "Python 3 (ipykernel)",
   "language": "python",
   "name": "python3"
  },
  "language_info": {
   "codemirror_mode": {
    "name": "ipython",
    "version": 3
   },
   "file_extension": ".py",
   "mimetype": "text/x-python",
   "name": "python",
   "nbconvert_exporter": "python",
   "pygments_lexer": "ipython3",
   "version": "3.12.4"
  }
 },
 "nbformat": 4,
 "nbformat_minor": 5
}
